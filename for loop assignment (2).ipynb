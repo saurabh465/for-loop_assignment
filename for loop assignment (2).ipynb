{
 "cells": [
  {
   "cell_type": "code",
   "execution_count": 1,
   "id": "41f69845-6563-4505-9c3e-e5a43b343646",
   "metadata": {},
   "outputs": [
    {
     "data": {
      "text/plain": [
       "' for loop is used when you know how much time you need to run the lopp or we can say you kniw the range . in for loop firstly code is run after that it checks the condtion .'"
      ]
     },
     "execution_count": 1,
     "metadata": {},
     "output_type": "execute_result"
    }
   ],
   "source": [
    "#Question 1\n",
    "#for loop \n",
    "\"\"\" for loop is used when you know how much time you need to run the lopp or we can say you kniw the range . in for loop firstly code is run after that it checks the condtion .\"\"\""
   ]
  },
  {
   "cell_type": "code",
   "execution_count": 2,
   "id": "82b56338-65cc-48a3-93f4-ee59248c799a",
   "metadata": {},
   "outputs": [
    {
     "name": "stdout",
     "output_type": "stream",
     "text": [
      "1\n",
      "2\n",
      "4\n"
     ]
    }
   ],
   "source": [
    "#for example \n",
    "a = [1,2,4]\n",
    "for i in a :\n",
    "    print(i)"
   ]
  },
  {
   "cell_type": "code",
   "execution_count": 3,
   "id": "80c34fed-4839-47ab-9328-4253109c24a1",
   "metadata": {},
   "outputs": [
    {
     "data": {
      "text/plain": [
       "' in this loop , loop firsly check the condition after that it start sun and  run until it satisfies or counter the condition '"
      ]
     },
     "execution_count": 3,
     "metadata": {},
     "output_type": "execute_result"
    }
   ],
   "source": [
    "#while loop \n",
    "\"\"\" in this loop , loop firsly check the condition after that it start sun and  run until it satisfies or counter the condition \"\"\""
   ]
  },
  {
   "cell_type": "code",
   "execution_count": 4,
   "id": "e1355617-9a23-4f0a-9b41-c97a9813c0a3",
   "metadata": {},
   "outputs": [
    {
     "name": "stdout",
     "output_type": "stream",
     "text": [
      "0\n",
      "1\n",
      "2\n",
      "3\n"
     ]
    }
   ],
   "source": [
    "\n",
    "#for example \n",
    "a = 0 \n",
    "while 4>a:\n",
    "    print(a)\n",
    "    a=a+1"
   ]
  },
  {
   "cell_type": "code",
   "execution_count": 5,
   "id": "e47f43a4-a7db-4491-9594-f6523b0a623d",
   "metadata": {},
   "outputs": [
    {
     "name": "stdout",
     "output_type": "stream",
     "text": [
      "sum: 55\n",
      "product: 3628800\n"
     ]
    }
   ],
   "source": [
    "#question 2 \n",
    "#Write a python program to print the sum and product of the first 10 natural numbers using for loop\n",
    "s=0\n",
    "p=1\n",
    "\n",
    "for i in range(1,11):\n",
    "    s=s+i\n",
    "    p=p*i\n",
    "print(\"sum:\", s)\n",
    "print(\"product:\",p)\n",
    "    \n",
    "    \n",
    "    "
   ]
  },
  {
   "cell_type": "code",
   "execution_count": 6,
   "id": "faceb7aa-a997-45d4-9d64-f5053dcc5083",
   "metadata": {},
   "outputs": [
    {
     "name": "stdout",
     "output_type": "stream",
     "text": [
      "sum: 55\n",
      "product: 3628800\n"
     ]
    }
   ],
   "source": [
    "# and while loop\n",
    "s=0\n",
    "counter = 1\n",
    "p=1\n",
    "while 10>=counter :\n",
    "    s=s+counter\n",
    "    p=p*counter\n",
    "    counter= counter+1\n",
    "print(\"sum:\",s)\n",
    "print(\"product:\",p)    \n",
    "    \n",
    "    \n"
   ]
  },
  {
   "cell_type": "code",
   "execution_count": 7,
   "id": "68480737-5745-42db-a59b-077282a84232",
   "metadata": {},
   "outputs": [],
   "source": [
    "#Question 3"
   ]
  },
  {
   "cell_type": "code",
   "execution_count": 17,
   "id": "547bc84f-9430-40a6-9215-67749683deaa",
   "metadata": {},
   "outputs": [
    {
     "name": "stdin",
     "output_type": "stream",
     "text": [
      "enter your unit 310\n"
     ]
    },
    {
     "name": "stdout",
     "output_type": "stream",
     "text": [
      "total bill: 2250.0\n"
     ]
    }
   ],
   "source": [
    "total_units = int(input(\"enter your unit\"))\n",
    "bill=0\n",
    "if total_units <=100:\n",
    "    bill= total_units*4.5\n",
    "elif total_units <=200 :\n",
    "    bill=100*4.5+ (total_units - 100)*6\n",
    "elif total_units <=300 :\n",
    "    bill = 100*4.5 + 100*6 + (total_units - 200)*10\n",
    "else :\n",
    "    bill = 100*4.5 + 100*6 + 100*10 +(total_units - 300)*20\n",
    "print(\"total bill:\",bill)    \n",
    "  \n",
    "    "
   ]
  },
  {
   "cell_type": "code",
   "execution_count": null,
   "id": "79788272-3cac-4d5f-946a-21dd502ec77a",
   "metadata": {},
   "outputs": [],
   "source": [
    "#question 4"
   ]
  },
  {
   "cell_type": "code",
   "execution_count": 29,
   "id": "a9a8bcaa-ab82-44f8-aeda-195777dc54b5",
   "metadata": {},
   "outputs": [
    {
     "name": "stdout",
     "output_type": "stream",
     "text": [
      "[2, 4, 5, 6, 8, 10, 12, 14, 15, 16, 18, 20, 22, 24, 25, 26, 28, 30, 32, 34, 35, 36, 38, 40, 42, 44, 45, 46, 48, 50, 52, 54, 55, 56, 58, 60, 62, 64, 65, 66, 68, 70, 72, 74, 75, 76, 78, 80, 82, 84, 85, 86, 88, 90, 92, 94, 95, 96, 98, 100]\n"
     ]
    }
   ],
   "source": [
    "#using for loop \n",
    "cube =[]\n",
    "for i in range(1,101):\n",
    "    p = i **3\n",
    "    if p%4 ==0 or p%5==0 :\n",
    "        cube.append(i)\n",
    "print(cube)        "
   ]
  },
  {
   "cell_type": "code",
   "execution_count": 28,
   "id": "aae8e55a-e3b6-4a7c-9c21-d62bbf23d6b3",
   "metadata": {},
   "outputs": [
    {
     "name": "stdout",
     "output_type": "stream",
     "text": [
      "[2, 4, 5, 6, 8, 10, 12, 14, 15, 16, 18, 20, 22, 24, 25, 26, 28, 30, 32, 34, 35, 36, 38, 40, 42, 44, 45, 46, 48, 50, 52, 54, 55, 56, 58, 60, 62, 64, 65, 66, 68, 70, 72, 74, 75, 76, 78, 80, 82, 84, 85, 86, 88, 90, 92, 94, 95, 96, 98, 100]\n"
     ]
    }
   ],
   "source": [
    "#using while loop\n",
    "counter=1\n",
    "cube_list = []\n",
    "while 100>=counter:\n",
    "    p = counter**3\n",
    "    if p%4 ==0 or p%5==0 :\n",
    "        cube_list.append(counter)\n",
    "    counter=counter+1\n",
    "print(cube_list)    \n",
    "    \n"
   ]
  },
  {
   "cell_type": "code",
   "execution_count": 33,
   "id": "af9e3995-1775-4f4f-b625-8fc9f962e1b8",
   "metadata": {},
   "outputs": [
    {
     "name": "stdout",
     "output_type": "stream",
     "text": [
      "vowels count : 12\n"
     ]
    }
   ],
   "source": [
    "#question 5\n",
    "string = \"I want to become a data scientist\"\n",
    "vowels = \"aeiouAEIOU\"\n",
    "count= 0\n",
    "for i in string :\n",
    "    if i in vowels :\n",
    "        count=count+1\n",
    "print(\"vowels count :\", count)        \n",
    "        "
   ]
  },
  {
   "cell_type": "code",
   "execution_count": null,
   "id": "4796d9bc-cb6e-437e-9d14-98d86d42e8b7",
   "metadata": {},
   "outputs": [],
   "source": []
  }
 ],
 "metadata": {
  "kernelspec": {
   "display_name": "Python 3 (ipykernel)",
   "language": "python",
   "name": "python3"
  },
  "language_info": {
   "codemirror_mode": {
    "name": "ipython",
    "version": 3
   },
   "file_extension": ".py",
   "mimetype": "text/x-python",
   "name": "python",
   "nbconvert_exporter": "python",
   "pygments_lexer": "ipython3",
   "version": "3.10.8"
  }
 },
 "nbformat": 4,
 "nbformat_minor": 5
}
